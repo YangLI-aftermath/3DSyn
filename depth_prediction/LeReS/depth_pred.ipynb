{
 "cells": [
  {
   "cell_type": "code",
   "execution_count": 5,
   "metadata": {
    "collapsed": true,
    "pycharm": {
     "name": "#%%\n"
    }
   },
   "outputs": [
    {
     "name": "stdout",
     "output_type": "stream",
     "text": [
      "python: can't open file '/home/yangli/3DSyn/depth_prediction/LeReS/tools/test_depth.py': [Errno 2] No such file or directory\r\n"
     ]
    }
   ],
   "source": [
    "# run the ResNet-50\n",
    "# python ./tools/test_depth.py --load_ckpt res50.pth --backbone resnet50\n",
    "# run the ResNeXt-101\n",
    "! export PYTHONPATH=$PYTHONPATH:'/home/yangli/3DSyn/depth_prediction/LeReS'\n",
    "! python 3DSyn/depth_prediction/LeReS/tools/test_depth.py --load_ckpt res101.pth --backbone resnext101"
   ]
  }
 ],
 "metadata": {
  "kernelspec": {
   "display_name": "Python 3",
   "language": "python",
   "name": "python3"
  },
  "language_info": {
   "codemirror_mode": {
    "name": "ipython",
    "version": 2
   },
   "file_extension": ".py",
   "mimetype": "text/x-python",
   "name": "python",
   "nbconvert_exporter": "python",
   "pygments_lexer": "ipython2",
   "version": "2.7.6"
  }
 },
 "nbformat": 4,
 "nbformat_minor": 0
}